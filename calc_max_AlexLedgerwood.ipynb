{
 "cells": [
  {
   "cell_type": "code",
   "execution_count": 1,
   "id": "2676cfbc-bdfc-4fa1-b830-bbac26cac186",
   "metadata": {},
   "outputs": [
    {
     "name": "stdin",
     "output_type": "stream",
     "text": [
      "Enter first integer:  18\n",
      "Enter second integer:  27\n",
      "Enter third integer:  3\n"
     ]
    },
    {
     "name": "stdout",
     "output_type": "stream",
     "text": [
      "Maximum value is 27\n"
     ]
    }
   ],
   "source": [
    "\n",
    "\"\"\"Find the maximum of three values.\"\"\"\n",
    "\n",
    "# Alex Ledgerwood\n",
    "\n",
    "number1 = int(input('Enter first integer: '))\n",
    "number2 = int(input('Enter second integer: '))\n",
    "number3 = int(input('Enter third integer: '))\n",
    "\n",
    "maximum = number1  \n",
    "\n",
    "if number2 > maximum:\n",
    "    maximum = number2\n",
    "\n",
    "if number3 > maximum:\n",
    "    maximum = number3\n",
    "\n",
    "print('Maximum value is', maximum)"
   ]
  },
  {
   "cell_type": "code",
   "execution_count": null,
   "id": "9488dd8d-6cf1-4f41-8774-f7ed53e013f4",
   "metadata": {},
   "outputs": [],
   "source": []
  }
 ],
 "metadata": {
  "kernelspec": {
   "display_name": "Python 3 (ipykernel)",
   "language": "python",
   "name": "python3"
  },
  "language_info": {
   "codemirror_mode": {
    "name": "ipython",
    "version": 3
   },
   "file_extension": ".py",
   "mimetype": "text/x-python",
   "name": "python",
   "nbconvert_exporter": "python",
   "pygments_lexer": "ipython3",
   "version": "3.9.12"
  }
 },
 "nbformat": 4,
 "nbformat_minor": 5
}
