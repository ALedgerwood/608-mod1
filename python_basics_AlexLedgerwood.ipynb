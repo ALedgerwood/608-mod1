{
 "cells": [
  {
   "cell_type": "markdown",
   "id": "62d0d4be-0b2c-4db3-a9e9-735ca81012a3",
   "metadata": {},
   "source": [
    "#Alex Ledgerwood"
   ]
  },
  {
   "cell_type": "code",
   "execution_count": 1,
   "id": "5925ffd5-7860-488d-86d3-962f545fa9e7",
   "metadata": {},
   "outputs": [
    {
     "data": {
      "text/plain": [
       "14"
      ]
     },
     "execution_count": 1,
     "metadata": {},
     "output_type": "execute_result"
    }
   ],
   "source": [
    "min(42, 14, 16)"
   ]
  },
  {
   "cell_type": "code",
   "execution_count": 2,
   "id": "c5cfcc1a-8a33-4ec0-ae4b-6a724bc42132",
   "metadata": {},
   "outputs": [
    {
     "data": {
      "text/plain": [
       "42"
      ]
     },
     "execution_count": 2,
     "metadata": {},
     "output_type": "execute_result"
    }
   ],
   "source": [
    "max(42, 14, 16)"
   ]
  },
  {
   "cell_type": "code",
   "execution_count": 4,
   "id": "2400fabe-59f2-404f-bbf5-f5dc78dd32b2",
   "metadata": {},
   "outputs": [
    {
     "data": {
      "text/plain": [
       "72"
      ]
     },
     "execution_count": 4,
     "metadata": {},
     "output_type": "execute_result"
    }
   ],
   "source": [
    "sum([42,14,16])"
   ]
  },
  {
   "cell_type": "code",
   "execution_count": 6,
   "id": "93efbf0c-99f3-4690-8989-e582cbe8cfe6",
   "metadata": {},
   "outputs": [
    {
     "name": "stdout",
     "output_type": "stream",
     "text": [
      "Range: 14 - 42\n"
     ]
    }
   ],
   "source": [
    "print('Range:', min(42, 14, 16), '-', max(42, 14, 16))"
   ]
  },
  {
   "cell_type": "code",
   "execution_count": 8,
   "id": "5218d1dd-535a-4993-8dd4-262489180d9d",
   "metadata": {},
   "outputs": [
    {
     "data": {
      "text/plain": [
       "3"
      ]
     },
     "execution_count": 8,
     "metadata": {},
     "output_type": "execute_result"
    }
   ],
   "source": [
    "len([42,14,16])"
   ]
  },
  {
   "cell_type": "code",
   "execution_count": 40,
   "id": "f8901811-846d-4841-9992-426f8303cc8a",
   "metadata": {},
   "outputs": [],
   "source": [
    "len = 3\n",
    "sum = 72"
   ]
  },
  {
   "cell_type": "code",
   "execution_count": 39,
   "id": "be036d2e-47cf-447d-8107-18bd2eec8efb",
   "metadata": {},
   "outputs": [
    {
     "name": "stdout",
     "output_type": "stream",
     "text": [
      "The average is 24.0\n"
     ]
    }
   ],
   "source": [
    "print(\"The average is\" , (sum/len))"
   ]
  }
 ],
 "metadata": {
  "kernelspec": {
   "display_name": "Python 3 (ipykernel)",
   "language": "python",
   "name": "python3"
  },
  "language_info": {
   "codemirror_mode": {
    "name": "ipython",
    "version": 3
   },
   "file_extension": ".py",
   "mimetype": "text/x-python",
   "name": "python",
   "nbconvert_exporter": "python",
   "pygments_lexer": "ipython3",
   "version": "3.9.12"
  }
 },
 "nbformat": 4,
 "nbformat_minor": 5
}
