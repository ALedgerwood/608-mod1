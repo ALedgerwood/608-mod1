{
 "cells": [
  {
   "cell_type": "code",
   "execution_count": 1,
   "id": "8397f8e9-4492-44f1-850b-0c88508d29a9",
   "metadata": {},
   "outputs": [
    {
     "data": {
      "text/plain": [
       "36.0"
      ]
     },
     "execution_count": 1,
     "metadata": {},
     "output_type": "execute_result"
    }
   ],
   "source": [
    "12 * (6 / 2)"
   ]
  },
  {
   "cell_type": "code",
   "execution_count": 4,
   "id": "27bfe12d-a178-40e4-aaf3-d1dcdcf91d32",
   "metadata": {},
   "outputs": [
    {
     "data": {
      "text/plain": [
       "88333"
      ]
     },
     "execution_count": 4,
     "metadata": {},
     "output_type": "execute_result"
    }
   ],
   "source": [
    "333333 - 245000"
   ]
  }
 ],
 "metadata": {
  "kernelspec": {
   "display_name": "Python 3 (ipykernel)",
   "language": "python",
   "name": "python3"
  },
  "language_info": {
   "codemirror_mode": {
    "name": "ipython",
    "version": 3
   },
   "file_extension": ".py",
   "mimetype": "text/x-python",
   "name": "python",
   "nbconvert_exporter": "python",
   "pygments_lexer": "ipython3",
   "version": "3.9.12"
  }
 },
 "nbformat": 4,
 "nbformat_minor": 5
}
